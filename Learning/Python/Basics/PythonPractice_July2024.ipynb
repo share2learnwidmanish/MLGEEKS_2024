{
 "cells": [
  {
   "cell_type": "markdown",
   "id": "b25696a8-5511-44b2-b75b-43b67a6ab6a4",
   "metadata": {},
   "source": [
    "## Problem statement\n",
    "1. Take input from user - ask to enter one character\n",
    "2. Check if the character is vowel\n",
    "3. break the loop and close the program\n",
    "4. If character entered is not a vowel, then print \"this is not a vowel:5.  Then take  another input from user - ask to enter one character"
   ]
  },
  {
   "cell_type": "code",
   "execution_count": 21,
   "id": "c820a363-17b7-4387-be5e-0e5824702066",
   "metadata": {},
   "outputs": [
    {
     "name": "stdin",
     "output_type": "stream",
     "text": [
      "enter one charcter : d\n",
      "enter one charcter : d\n"
     ]
    },
    {
     "name": "stdout",
     "output_type": "stream",
     "text": [
      "this is not a vowel:\n"
     ]
    },
    {
     "name": "stdin",
     "output_type": "stream",
     "text": [
      "enter one charcter : a\n"
     ]
    },
    {
     "name": "stdout",
     "output_type": "stream",
     "text": [
      "you have entered a vowel breaking the loop\n"
     ]
    }
   ],
   "source": [
    "#u_input = input(\"enter one charcter :\")\n",
    "while True:\n",
    "    u_input = input(\"enter one charcter :\")\n",
    "    if (len(u_input)) != 1:\n",
    "        break\n",
    "    if (u_input in list('aeiou')):\n",
    "        print('you have entered a vowel breaking the loop')\n",
    "        break\n",
    "    else:\n",
    "        print('this is not a vowel enter another character:')\n",
    "        \n",
    "        \n"
   ]
  },
  {
   "cell_type": "code",
   "execution_count": null,
   "id": "949976cd-0d28-4650-b2cd-f146ef5d4d7f",
   "metadata": {},
   "outputs": [],
   "source": []
  },
  {
   "cell_type": "code",
   "execution_count": null,
   "id": "6b1dfb44-ffcd-404e-959f-774317b51acf",
   "metadata": {},
   "outputs": [],
   "source": []
  },
  {
   "cell_type": "code",
   "execution_count": 1,
   "id": "f80fc279-cc76-4baa-b63e-824b6dbe9203",
   "metadata": {},
   "outputs": [
    {
     "name": "stdout",
     "output_type": "stream",
     "text": [
      "hello world\n"
     ]
    }
   ],
   "source": [
    "print(\"hello world\")"
   ]
  },
  {
   "cell_type": "code",
   "execution_count": 3,
   "id": "8129a7b5-0324-47f8-9370-2bf82990206e",
   "metadata": {},
   "outputs": [
    {
     "name": "stdout",
     "output_type": "stream",
     "text": [
      "My name is Manish\n"
     ]
    }
   ],
   "source": [
    "print(\"My name is Manish\")"
   ]
  },
  {
   "attachments": {},
   "cell_type": "markdown",
   "id": "3d7de07e-90d1-4310-95d6-73f6240388cf",
   "metadata": {},
   "source": [
    "### This is a section for new beginning \n"
   ]
  },
  {
   "cell_type": "code",
   "execution_count": 10,
   "id": "b443dafa-40b4-43a8-a81b-ebbc8dac22e7",
   "metadata": {},
   "outputs": [
    {
     "name": "stdout",
     "output_type": "stream",
     "text": [
      "hello how are you ?\n"
     ]
    }
   ],
   "source": [
    "print(\"hello how are you ?\")"
   ]
  },
  {
   "cell_type": "markdown",
   "id": "1f4fd32f-12de-457f-a1e0-50cc2f02e22d",
   "metadata": {},
   "source": [
    "- This is green, this is where you can write code "
   ]
  },
  {
   "cell_type": "markdown",
   "id": "28bc8156-32a4-4966-9883-708d91a76143",
   "metadata": {},
   "source": []
  },
  {
   "cell_type": "markdown",
   "id": "e48adb65-8934-48c2-b85a-0772f8e8574b",
   "metadata": {},
   "source": [
    "recorded as commens "
   ]
  }
 ],
 "metadata": {
  "kernelspec": {
   "display_name": "Python 3 (ipykernel)",
   "language": "python",
   "name": "python3"
  },
  "language_info": {
   "codemirror_mode": {
    "name": "ipython",
    "version": 3
   },
   "file_extension": ".py",
   "mimetype": "text/x-python",
   "name": "python",
   "nbconvert_exporter": "python",
   "pygments_lexer": "ipython3",
   "version": "3.12.4"
  }
 },
 "nbformat": 4,
 "nbformat_minor": 5
}
