{
 "cells": [
  {
   "cell_type": "markdown",
   "id": "7241a5db-e383-464f-9475-59afec2e64cf",
   "metadata": {},
   "source": [
    "## Python basics - List\n",
    "Topics:\n",
    "==============\n",
    "- List\n",
    "\n",
    "Please note this is not a comprehensive list of the additional topics and examples around the main topics. The focus is to provide some guidance on high level features and we deal with specific usage and examples as we cross the bridge as we get to it."
   ]
  },
  {
   "cell_type": "markdown",
   "id": "3c41fe23-56a9-4439-9e66-dc685bbaa5e0",
   "metadata": {},
   "source": [
    "- Lists in Python are essentially ordered collections of items.\n",
    "- Imagine a shopping list where you can write down anything you need, from groceries to that new book you've been eyeing.\n",
    "- You can add or remove items as needed, and the order you write them in matters!\n",
    "- Lists can hold different data types like numbers, text, even other lists!"
   ]
  },
  {
   "cell_type": "code",
   "execution_count": 4,
   "id": "cb204f2d-78bf-4775-80a0-3a3db7654e21",
   "metadata": {},
   "outputs": [
    {
     "name": "stdout",
     "output_type": "stream",
     "text": [
      "['apple', 'banana', 'orange']\n"
     ]
    }
   ],
   "source": [
    "# We can create a list of fruits like this:\n",
    "fruits = [\"apple\", \"banana\", \"orange\"]\n",
    "print(fruits)"
   ]
  },
  {
   "cell_type": "markdown",
   "id": "2b25ec47-4056-4893-ac4c-fa59d423f212",
   "metadata": {},
   "source": [
    "### To check the length of list with  <font color=\"green\">len()</font> function"
   ]
  },
  {
   "cell_type": "code",
   "execution_count": 7,
   "id": "17ef1707-9668-4883-a20e-d0e3b2d955df",
   "metadata": {},
   "outputs": [
    {
     "name": "stdout",
     "output_type": "stream",
     "text": [
      "3\n"
     ]
    }
   ],
   "source": [
    "print(len(fruits))"
   ]
  },
  {
   "cell_type": "markdown",
   "id": "b3a681e3-c244-443e-809c-1a3fcc41c2af",
   "metadata": {},
   "source": [
    "### To create the list with  <font color=\"green\">different</font> data types"
   ]
  },
  {
   "cell_type": "code",
   "execution_count": 14,
   "id": "99d32384-1378-405e-a1e9-70ebfabfbc7d",
   "metadata": {},
   "outputs": [],
   "source": [
    "mixed_list = [10, \"hello\", True, 3.14]"
   ]
  },
  {
   "cell_type": "markdown",
   "id": "a801b03e-16a2-47a4-af3c-a4b46d2f6c0c",
   "metadata": {},
   "source": [
    "### <font color=\"red\">Question:</font>  Can you tell us the data type of second element ?"
   ]
  },
  {
   "cell_type": "code",
   "execution_count": 18,
   "id": "811298f5-94a1-4b35-bda2-12ad2dd66d19",
   "metadata": {},
   "outputs": [],
   "source": [
    "# Solution \n",
    "print(type(mixed_list[1])) "
   ]
  },
  {
   "cell_type": "markdown",
   "id": "cefda44f-b29d-4b35-bdb5-4c1d60d01fc9",
   "metadata": {},
   "source": [
    "### Let's explore a slightly trickier concept: <font color=\"green\"> nested lists</font> data types"
   ]
  },
  {
   "cell_type": "code",
   "execution_count": null,
   "id": "47fb9415-e8ff-4261-bbc2-a41e83009cbc",
   "metadata": {},
   "outputs": [],
   "source": [
    "groceries = [\"bread\", [\"milk\", 1, \"gallon\"], \"eggs\", 12]"
   ]
  },
  {
   "cell_type": "markdown",
   "id": "68adfaef-c66b-4967-badc-f180c74d3e75",
   "metadata": {},
   "source": [
    "#### In this example, groceries is a list containing different grocery items. The second element itself is a list containing details about milk."
   ]
  },
  {
   "cell_type": "markdown",
   "id": "92f424c0-afbe-4169-bd1b-4a435f955132",
   "metadata": {},
   "source": [
    "### <font color=\"red\">Question:</font> Can you tell me how many elements are in the entire groceries list?"
   ]
  },
  {
   "cell_type": "code",
   "execution_count": null,
   "id": "63b4793c-d6d2-4ab9-8fd9-e1cda8d22369",
   "metadata": {},
   "outputs": [],
   "source": [
    "### Write your answer here "
   ]
  },
  {
   "cell_type": "markdown",
   "id": "4a3113d5-95e0-40ad-b244-e0c00ed97f23",
   "metadata": {},
   "source": [
    "#### If your answer was 6 use below method to find the right answer "
   ]
  },
  {
   "cell_type": "code",
   "execution_count": null,
   "id": "0ea41ff5-b479-4878-a8df-c28cca9302cb",
   "metadata": {},
   "outputs": [],
   "source": [
    "len(groceries)"
   ]
  },
  {
   "cell_type": "markdown",
   "id": "3e1880a1-d53c-42a2-a038-52287d30b144",
   "metadata": {},
   "source": [
    "### How to <font color=\"green\">access element </font>  in a list   \n",
    "To access elements in a list, we use square brackets [] and the element's position, called its index. Indexes start from 0.<br>\n",
    "In below example to access 3rd element in the list we will use number_list[2]"
   ]
  },
  {
   "cell_type": "code",
   "execution_count": 3,
   "id": "258da84f-fcd4-4ea2-ac47-e796033de21c",
   "metadata": {},
   "outputs": [],
   "source": [
    "number_list = [1, 2, 3, 4, 5]"
   ]
  },
  {
   "cell_type": "code",
   "execution_count": 7,
   "id": "a9be1a47-3926-4091-802e-ce5c12c68e9c",
   "metadata": {},
   "outputs": [
    {
     "name": "stdout",
     "output_type": "stream",
     "text": [
      "3\n"
     ]
    }
   ],
   "source": [
    "print(number_list[2])"
   ]
  },
  {
   "cell_type": "markdown",
   "id": "c810d2fa-0684-4ad1-82f0-4105181adfb6",
   "metadata": {},
   "source": [
    "### About <font color=\"green\">negative indexes </font>  in a list   \n",
    "While positive indexes start from 0 and go up to the list length minus one, Python actually allows negative indexing for lists.<br>It starts from the end of the list at -1 for the last element, -2 for the second last, and so on."
   ]
  },
  {
   "cell_type": "code",
   "execution_count": 12,
   "id": "bdc23f32-1a9c-4d53-906b-218464ea653d",
   "metadata": {},
   "outputs": [
    {
     "data": {
      "text/plain": [
       "5"
      ]
     },
     "execution_count": 12,
     "metadata": {},
     "output_type": "execute_result"
    }
   ],
   "source": [
    "number_list[-1]"
   ]
  },
  {
   "cell_type": "markdown",
   "id": "ab9a5257-1ef1-45f4-8364-939852abe6e6",
   "metadata": {},
   "source": [
    "###  <font color=\"green\">Manupulating </font> a list<br>   \n",
    "Lists are mutable, meaning you can change their contents after they're created. <br>\n",
    "fruits = [\"apple\", \"banana\", \"cherry\"]<br>\n",
    "Say you want to replace \"banana\" with \"orange\"."
   ]
  },
  {
   "cell_type": "code",
   "execution_count": 19,
   "id": "f033ff10-f126-4066-bccd-31b2e5679e8a",
   "metadata": {},
   "outputs": [
    {
     "name": "stdout",
     "output_type": "stream",
     "text": [
      "['apple', 'orange', 'cherry']\n"
     ]
    }
   ],
   "source": [
    "fruits = [\"apple\", \"banana\", \"cherry\"]\n",
    "fruits[1] = \"orange\"\n",
    "print(fruits)  # Output: [\"apple\", \"orange\", \"cherry\"]"
   ]
  },
  {
   "cell_type": "markdown",
   "id": "ec25ff02-53fb-44ea-8ee6-868f8e2de961",
   "metadata": {},
   "source": [
    "###  <font color=\"green\">Add elements </font> to a list\n",
    "fruits = [\"apple\", \"banana\", \"cherry\"]"
   ]
  },
  {
   "cell_type": "code",
   "execution_count": 23,
   "id": "d96ca9e3-91ec-41cd-b2a7-5de767f7cec9",
   "metadata": {},
   "outputs": [],
   "source": [
    "fruits.append(\"pineapple\")"
   ]
  },
  {
   "cell_type": "code",
   "execution_count": 25,
   "id": "a85c27c0-50fd-42af-b253-5a59045e8f05",
   "metadata": {},
   "outputs": [
    {
     "name": "stdout",
     "output_type": "stream",
     "text": [
      "['apple', 'orange', 'cherry', 'pineapple']\n"
     ]
    }
   ],
   "source": [
    "print(fruits) # will add pineapple to end of the list "
   ]
  },
  {
   "cell_type": "markdown",
   "id": "4173e3fd-e663-4c62-8787-3baf4c0e929f",
   "metadata": {},
   "source": [
    "###  <font color=\"green\">Inserting at a specific index </font> to a list\n",
    "We can use the .insert() method"
   ]
  },
  {
   "cell_type": "code",
   "execution_count": 30,
   "id": "bb27d896-3f1a-42dc-ace0-4efc1faea7ac",
   "metadata": {},
   "outputs": [
    {
     "name": "stdout",
     "output_type": "stream",
     "text": [
      "['apple', 'banana', 'mango', 'cherry']\n"
     ]
    }
   ],
   "source": [
    "fruits = [\"apple\", \"banana\", \"cherry\"]\n",
    "fruits.insert(2, \"mango\")\n",
    "print(fruits)  # Output: [\"apple\", \"orange\", \"mango\", \"cherry\"]"
   ]
  },
  {
   "cell_type": "markdown",
   "id": "1933a021-8360-4982-8fc0-cbbd15f1c7e4",
   "metadata": {},
   "source": [
    "###  <font color=\"green\">Removing elements </font> from a list\n",
    "We can take out elements from lists using methods like .remove() and .pop()\n",
    "1. remove(element): This method removes the first occurrence of a specified element from the list. It raises a ValueError exception if the element is not found in the list\n",
    "2. pop(index): This method removes the element at a specific index from the list. If no index is provided, it removes and returns the last element. It raises an IndexError exception if the index is out of range.\n"
   ]
  },
  {
   "cell_type": "code",
   "execution_count": 35,
   "id": "7298f3ec-48a4-4ea2-a67f-a9e19ef1d273",
   "metadata": {},
   "outputs": [
    {
     "name": "stdout",
     "output_type": "stream",
     "text": [
      "['apple', 'cherry', 'mango']\n"
     ]
    }
   ],
   "source": [
    "fruits = [\"apple\", \"orange\", \"cherry\", \"mango\"]\n",
    "fruits.remove(\"orange\")\n",
    "print(fruits)  # Output: [\"apple\", \"cherry\", \"mango\"]"
   ]
  },
  {
   "cell_type": "code",
   "execution_count": 38,
   "id": "6c8b64b0-f26a-4bc7-859e-6614c0acfe30",
   "metadata": {},
   "outputs": [
    {
     "name": "stdout",
     "output_type": "stream",
     "text": [
      "['apple', 'cherry', 'mango']\n"
     ]
    }
   ],
   "source": [
    "fruits = [\"apple\", \"orange\", \"cherry\", \"mango\"]\n",
    "fruits.pop(1)  # Removes element at index 1 (\"cherry\")\n",
    "print(fruits)  # Output: [\"apple\", \"mango\"]"
   ]
  },
  {
   "cell_type": "markdown",
   "id": "f8825a39-fe60-4db1-b3fa-b801343854fd",
   "metadata": {},
   "source": [
    "###  <font color=\"green\">Slicing </font> from a list\n",
    "Slicing allows you to extract a portion of a list to create a new list.<br>\n",
    "new_list = original_list[start:stop:step]"
   ]
  },
  {
   "cell_type": "code",
   "execution_count": 43,
   "id": "aa29d477-e507-40cf-b195-93f088e293d5",
   "metadata": {},
   "outputs": [
    {
     "name": "stdout",
     "output_type": "stream",
     "text": [
      "['orange', 'cherry']\n"
     ]
    }
   ],
   "source": [
    "fruits = [\"apple\", \"orange\", \"cherry\", \"mango\", \"kiwi\"]\n",
    "sublist = fruits[1:3]  # Get elements from index 1 (inclusive) to 3 (exclusive)\n",
    "print(sublist)  # Output: [\"orange\", \"cherry\"]"
   ]
  },
  {
   "cell_type": "markdown",
   "id": "311a7e1c-f7dc-4ce2-8ec8-dde8c014b899",
   "metadata": {},
   "source": [
    "###  <font color=\"green\">Reversing a List </font> from a list\n"
   ]
  },
  {
   "cell_type": "code",
   "execution_count": 46,
   "id": "d3cec88d-018c-4a70-95b0-edb0fc2be633",
   "metadata": {},
   "outputs": [
    {
     "name": "stdout",
     "output_type": "stream",
     "text": [
      "['kiwi', 'mango', 'cherry', 'orange', 'apple']\n"
     ]
    }
   ],
   "source": [
    "fruits_reversed = fruits[::-1]  # Get all elements with step -1 (reverse order)\n",
    "print(fruits_reversed)  # Output: [\"kiwi\", \"mango\", \"cherry\", \"orange\", \"apple\"]"
   ]
  },
  {
   "cell_type": "markdown",
   "id": "8b9b77d7-23ed-471b-a025-e68ebef5269c",
   "metadata": {},
   "source": [
    "##  <font color=\"green\">Optional Topic </font> "
   ]
  },
  {
   "cell_type": "markdown",
   "id": "3504f454-d4f4-4153-978f-35b25e443d68",
   "metadata": {},
   "source": [
    "### Using<font color=\"green\"> for  </font> loop:  This loop allows you to go through each element in the list and perform an action on it."
   ]
  },
  {
   "cell_type": "code",
   "execution_count": 52,
   "id": "1ede4626-9360-4b11-9d43-6d9bf7e313f6",
   "metadata": {},
   "outputs": [
    {
     "name": "stdout",
     "output_type": "stream",
     "text": [
      "apple\n",
      "orange\n",
      "cherry\n"
     ]
    }
   ],
   "source": [
    "fruits = [\"apple\", \"orange\", \"cherry\"]\n",
    "for fruit in fruits:\n",
    "  print(fruit)"
   ]
  },
  {
   "cell_type": "markdown",
   "id": "ccb01a57-0122-49be-8cce-d78e53bb841d",
   "metadata": {},
   "source": [
    "### Using<font color=\"green\"> enumerate()  </font> function: This function provides both the index and the element during iteration.\n"
   ]
  },
  {
   "cell_type": "code",
   "execution_count": 55,
   "id": "16999e27-1e69-40a4-88ed-f0fc9885015a",
   "metadata": {},
   "outputs": [
    {
     "name": "stdout",
     "output_type": "stream",
     "text": [
      "Index: 0, Fruit: apple\n",
      "Index: 1, Fruit: orange\n",
      "Index: 2, Fruit: cherry\n"
     ]
    }
   ],
   "source": [
    "for index, fruit in enumerate(fruits):\n",
    "  print(f\"Index: {index}, Fruit: {fruit}\")"
   ]
  },
  {
   "cell_type": "code",
   "execution_count": null,
   "id": "8e224ab2-68e1-4cb8-98dd-d979874a4fd3",
   "metadata": {},
   "outputs": [],
   "source": []
  }
 ],
 "metadata": {
  "kernelspec": {
   "display_name": "Python 3 (ipykernel)",
   "language": "python",
   "name": "python3"
  },
  "language_info": {
   "codemirror_mode": {
    "name": "ipython",
    "version": 3
   },
   "file_extension": ".py",
   "mimetype": "text/x-python",
   "name": "python",
   "nbconvert_exporter": "python",
   "pygments_lexer": "ipython3",
   "version": "3.12.4"
  }
 },
 "nbformat": 4,
 "nbformat_minor": 5
}
