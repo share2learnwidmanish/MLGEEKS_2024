{
 "cells": [
  {
   "cell_type": "markdown",
   "id": "680a9611-0a67-43c9-9469-fb3f0c1ce43f",
   "metadata": {},
   "source": [
    "### When it comes to data science and machine cleaning, here are some key Python string methods you'll encounter frequently"
   ]
  },
  {
   "cell_type": "markdown",
   "id": "cbc33bbd-51b9-46b0-97a4-d775c540bdbc",
   "metadata": {},
   "source": [
    "#### <font color=\"green\">isalnum():</font>  \n",
    "This method checks if all characters in the string are alphanumeric (letters and numbers). This is useful for checking if a string represents a valid number before conversion or for filtering data containing only alphanumeric characters."
   ]
  },
  {
   "cell_type": "code",
   "execution_count": 16,
   "id": "e2be883e-b2d0-4d4e-af76-0790fd1767a2",
   "metadata": {},
   "outputs": [
    {
     "name": "stdout",
     "output_type": "stream",
     "text": [
      "True\n",
      "False\n",
      "False\n",
      "True\n"
     ]
    }
   ],
   "source": [
    "text1 = \"Thisisalphanumeric\"\n",
    "text2 = \"This has spaces\"\n",
    "text3 = \"this_is_has_some_digits_12\"\n",
    "text4 = \"1234\"\n",
    "\n",
    "print(text1.isalnum())  # True\n",
    "print(text2.isalnum())  # False (due to spaces)\n",
    "print(text3.isalnum())  # False (special charc)\n",
    "print(text4.isalnum())  # True (only digits)\n"
   ]
  },
  {
   "cell_type": "markdown",
   "id": "9a755f02-b1ea-4318-8449-7e7de058cc18",
   "metadata": {},
   "source": [
    "#### <font color=\"green\">isalpha():</font>  \n",
    "This method checks if all characters in the string are letters (a-z and A-Z). This can be helpful for tasks like identifying names or removing non-letter characters from text data"
   ]
  },
  {
   "cell_type": "code",
   "execution_count": 20,
   "id": "964478ce-6f9a-4c67-ab0d-ba775139ac44",
   "metadata": {},
   "outputs": [
    {
     "name": "stdout",
     "output_type": "stream",
     "text": [
      "True\n",
      "False\n"
     ]
    }
   ],
   "source": [
    "name = \"Albert\"\n",
    "symbol = \"@#$%\"\n",
    "\n",
    "print(name.isalpha())  # True\n",
    "print(symbol.isalpha())  # False (contains symbols)"
   ]
  },
  {
   "cell_type": "markdown",
   "id": "e76bda21-1fec-4c09-8285-48ec4b6ec4d5",
   "metadata": {},
   "source": [
    "#### <font color=\"green\">isdigit():</font>  \n",
    " This method checks if all characters in the string are digits (0-9). This comes in handy when dealing with numerical data and ensuring it only contains valid digits."
   ]
  },
  {
   "cell_type": "code",
   "execution_count": 24,
   "id": "ee860a32-5df8-4407-a6af-368ae8e92e71",
   "metadata": {},
   "outputs": [
    {
     "name": "stdout",
     "output_type": "stream",
     "text": [
      "True\n",
      "False\n"
     ]
    }
   ],
   "source": [
    "age = \"30\"\n",
    "price = \"$12.99\"\n",
    "\n",
    "print(age.isdigit())  # True\n",
    "print(price.isdigit())  # False (contains $)"
   ]
  },
  {
   "cell_type": "markdown",
   "id": "26eb9cb3-bf74-46e2-a7f7-01d3b789b12b",
   "metadata": {},
   "source": [
    "#### <font color=\"green\">replace():</font>  \n",
    " This method replaces all occurrences of a substring with another substring. It's incredibly useful for data cleaning tasks like removing punctuation, special characters, or converting specific abbreviations."
   ]
  },
  {
   "cell_type": "code",
   "execution_count": 34,
   "id": "bb94450f-7e38-4588-8a6a-1bd23faee6fe",
   "metadata": {},
   "outputs": [
    {
     "name": "stdout",
     "output_type": "stream",
     "text": [
      "Original text: Th1s text has 1 numbers , and symbols!\n",
      "Cleaned text: Thones text has one numbers  and symbols\n"
     ]
    }
   ],
   "source": [
    "text = \"Th1s text has 1 numbers , and symbols!\"\n",
    "cleaned_text = text.replace(\"!\", \"\").replace(\"1\", \"one\").replace(\",\", \"\")\n",
    "\n",
    "print(f\"Original text: {text}\")\n",
    "print(f\"Cleaned text: {cleaned_text}\")  # This text has numbers and symbols"
   ]
  },
  {
   "cell_type": "markdown",
   "id": "721acf62-748c-417b-bbb7-ea0504f2067d",
   "metadata": {},
   "source": [
    "#### <font color=\"green\">split():</font>  \n",
    " This method splits a string into a list based on a specified delimiter (separator). This is essential for tasks like tokenizing text data into words or splitting data points from CSV files."
   ]
  },
  {
   "cell_type": "code",
   "execution_count": 38,
   "id": "fbbc98f9-b09a-44d0-8484-893e2ca30b5b",
   "metadata": {},
   "outputs": [
    {
     "name": "stdout",
     "output_type": "stream",
     "text": [
      "['This', 'is', 'a', 'sentence', 'to', 'split']\n"
     ]
    }
   ],
   "source": [
    "sentence = \"This is a sentence to split\"\n",
    "words = sentence.split()\n",
    "\n",
    "print(words)  # ['This', 'is', 'a', 'sentence', 'to', 'split']"
   ]
  },
  {
   "cell_type": "markdown",
   "id": "9d64a90c-128e-40f2-b469-e2bbf0a809d6",
   "metadata": {},
   "source": [
    "#### <font color=\"green\">join():</font>  \n",
    "\n",
    " This method is the opposite of split. It joins elements of a list or iterable into a string with a specified separator. This is useful for tasks like creating custom strings from lists or reconstructing strings after splitting."
   ]
  },
  {
   "cell_type": "code",
   "execution_count": 42,
   "id": "b1632293-d960-439a-84f7-330184317698",
   "metadata": {},
   "outputs": [
    {
     "name": "stdout",
     "output_type": "stream",
     "text": [
      "This is joined text\n"
     ]
    }
   ],
   "source": [
    "words = [\"This\", \"is\", \"joined\", \"text\"]\n",
    "joined_text = \" \".join(words)\n",
    "\n",
    "print(joined_text)  # This is joined text"
   ]
  },
  {
   "cell_type": "code",
   "execution_count": null,
   "id": "9c70cd16-7f18-4706-ab6b-ae52a5e80169",
   "metadata": {},
   "outputs": [],
   "source": []
  }
 ],
 "metadata": {
  "kernelspec": {
   "display_name": "Python 3 (ipykernel)",
   "language": "python",
   "name": "python3"
  },
  "language_info": {
   "codemirror_mode": {
    "name": "ipython",
    "version": 3
   },
   "file_extension": ".py",
   "mimetype": "text/x-python",
   "name": "python",
   "nbconvert_exporter": "python",
   "pygments_lexer": "ipython3",
   "version": "3.12.4"
  }
 },
 "nbformat": 4,
 "nbformat_minor": 5
}
