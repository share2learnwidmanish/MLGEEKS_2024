{
 "cells": [
  {
   "cell_type": "markdown",
   "id": "19d4e9dc-270f-4a84-8a0a-54c5ea4495c4",
   "metadata": {},
   "source": [
    "## Python basics - Strings\n",
    "Topics:\n",
    "==============\n",
    "- Strings\n",
    "\n",
    "Please note this is not a comprehensive list of the additional topics and examples around the main topics. The focus is to provide some guidance on high level features and we deal with specific usage and examples as we cross the bridge as we get to it."
   ]
  },
  {
   "cell_type": "markdown",
   "id": "b13ab80a-6d12-45ed-a566-69fca3e13f0e",
   "metadata": {},
   "source": [
    "\n",
    "# <font color=\"green\">Strings</font>\n",
    "\n",
    "- Strings are a fundamental data type used to represent text in Python. \n",
    "- They are immutable, meaning you can't modify individual characters within a string once it's created.\n",
    "- However, you can create new strings by concatenating or slicing existing ones.\n",
    "- String are enclosed by either single quotes (' ') or double quotes (\" \")\n"
   ]
  },
  {
   "cell_type": "code",
   "execution_count": 4,
   "id": "d962dc3b-b831-4533-b8d4-29c78fe02244",
   "metadata": {},
   "outputs": [],
   "source": [
    "#simple example - python\n",
    "name = \"John Doe\""
   ]
  },
  {
   "cell_type": "code",
   "execution_count": 6,
   "id": "360377ce-d593-4595-877b-728c101bc75c",
   "metadata": {},
   "outputs": [
    {
     "data": {
      "text/plain": [
       "'John Doe'"
      ]
     },
     "execution_count": 6,
     "metadata": {},
     "output_type": "execute_result"
    }
   ],
   "source": [
    "name"
   ]
  },
  {
   "cell_type": "code",
   "execution_count": 10,
   "id": "82bb4521-15ef-49b6-b3b3-e25b2a2d73f3",
   "metadata": {},
   "outputs": [
    {
     "name": "stdout",
     "output_type": "stream",
     "text": [
      "John Doe\n"
     ]
    }
   ],
   "source": [
    "print(name)"
   ]
  },
  {
   "cell_type": "markdown",
   "id": "1819d31d-58e2-42ff-a8cb-e06c7c55294b",
   "metadata": {},
   "source": [
    "### To check the variable type use <font color=\"green\">type()</font> function\n",
    "eg: type(variable name)"
   ]
  },
  {
   "cell_type": "code",
   "execution_count": 19,
   "id": "9c34c996-3908-4462-a2dc-f29ed0498472",
   "metadata": {},
   "outputs": [
    {
     "data": {
      "text/plain": [
       "str"
      ]
     },
     "execution_count": 19,
     "metadata": {},
     "output_type": "execute_result"
    }
   ],
   "source": [
    "type(name)"
   ]
  },
  {
   "cell_type": "markdown",
   "id": "9eda75a4-3200-4889-ad03-586f6740b3ab",
   "metadata": {},
   "source": [
    "### Another example could be a string representing a sentence:"
   ]
  },
  {
   "cell_type": "code",
   "execution_count": 23,
   "id": "79be9d9c-5948-42d8-8969-0e80f0bb355f",
   "metadata": {},
   "outputs": [],
   "source": [
    "sentence = \"The quick brown fox jumps over the lazy dog.\""
   ]
  },
  {
   "cell_type": "code",
   "execution_count": 25,
   "id": "1fd953e4-4284-4d87-8bdc-27b600a9ce5e",
   "metadata": {},
   "outputs": [
    {
     "name": "stdout",
     "output_type": "stream",
     "text": [
      "The quick brown fox jumps over the lazy dog.\n"
     ]
    }
   ],
   "source": [
    "print(sentence)"
   ]
  },
  {
   "cell_type": "code",
   "execution_count": 27,
   "id": "86569460-4bfd-4095-a824-1f9748b17f05",
   "metadata": {},
   "outputs": [
    {
     "data": {
      "text/plain": [
       "str"
      ]
     },
     "execution_count": 27,
     "metadata": {},
     "output_type": "execute_result"
    }
   ],
   "source": [
    "type(sentence)"
   ]
  },
  {
   "cell_type": "markdown",
   "id": "45c87855-8731-46b1-9b0f-b9faa623f7da",
   "metadata": {},
   "source": [
    "### Access elements of a string:\n",
    "- How to access first element of the string 'John Doe'"
   ]
  },
  {
   "cell_type": "code",
   "execution_count": 31,
   "id": "68ee5551-ae09-48a8-ad71-12c96e7c1233",
   "metadata": {},
   "outputs": [
    {
     "name": "stdout",
     "output_type": "stream",
     "text": [
      "J\n"
     ]
    }
   ],
   "source": [
    "name = \"John Doe\"\n",
    "first_char = name[0]\n",
    "print(first_char)"
   ]
  },
  {
   "cell_type": "markdown",
   "id": "c3f18c35-7153-4abe-96f0-1f64f3d0d620",
   "metadata": {},
   "source": [
    "#### Strings can be created using either single quotes or double quotes, and they behave identically.  "
   ]
  },
  {
   "cell_type": "code",
   "execution_count": 10,
   "id": "2d939fad-da29-4676-86d6-30844393feef",
   "metadata": {},
   "outputs": [
    {
     "name": "stdout",
     "output_type": "stream",
     "text": [
      "Alex I'm your Python trainer for today!\n"
     ]
    }
   ],
   "source": [
    "name = 'Alex '\n",
    "message = \"I'm your Python trainer for today!\"\n",
    "\n",
    "print(name + message)"
   ]
  },
  {
   "cell_type": "markdown",
   "id": "227bddb6-77bc-4918-af7c-dca8f49a85a8",
   "metadata": {},
   "source": [
    "### <font color=\"red\">Solve following problem :</font>\n",
    "Imagine you have a first name stored in a variable firstName and a last name stored in a variable lastName. How would you create a string containing the full name?"
   ]
  },
  {
   "cell_type": "code",
   "execution_count": 17,
   "id": "95813b86-3a68-45e4-90f3-0ec52fdba26e",
   "metadata": {},
   "outputs": [],
   "source": [
    "### Write your answer here ###"
   ]
  },
  {
   "cell_type": "code",
   "execution_count": null,
   "id": "7607e51a-7803-4762-9392-d332e2c25451",
   "metadata": {},
   "outputs": [],
   "source": []
  },
  {
   "cell_type": "markdown",
   "id": "9d6f8d36-8fc9-4579-ba2c-ee65931f8b81",
   "metadata": {},
   "source": [
    "##### Strings can also contain special characters.<br>  \n",
    "These characters can be used to format the output or represent non-printable characters.  \n",
    "For instance, the backslash () is used as an escape character.  It tells Python to interpret the following character in a special way."
   ]
  },
  {
   "cell_type": "code",
   "execution_count": 25,
   "id": "36e63ab4-7b56-4379-bc31-0c1cfe091a14",
   "metadata": {},
   "outputs": [
    {
     "ename": "SyntaxError",
     "evalue": "unterminated string literal (detected at line 1) (4001164692.py, line 1)",
     "output_type": "error",
     "traceback": [
      "\u001b[1;36m  Cell \u001b[1;32mIn[25], line 1\u001b[1;36m\u001b[0m\n\u001b[1;33m    test_quotes = ' Hell'o how are you ?'\u001b[0m\n\u001b[1;37m                                        ^\u001b[0m\n\u001b[1;31mSyntaxError\u001b[0m\u001b[1;31m:\u001b[0m unterminated string literal (detected at line 1)\n"
     ]
    }
   ],
   "source": [
    "test_quotes = ' Hell'o how are you ?' # <-- This will fail and you have to either enclose in double quotes or escape single quote"
   ]
  },
  {
   "cell_type": "code",
   "execution_count": 29,
   "id": "f49ee19c-579c-499c-a07e-22c053d20b9e",
   "metadata": {},
   "outputs": [
    {
     "name": "stdout",
     "output_type": "stream",
     "text": [
      " Hell'o how are you ?\n"
     ]
    }
   ],
   "source": [
    "test_quotes = ' Hell\\'o how are you ?' \n",
    "print(test_quotes)"
   ]
  },
  {
   "cell_type": "code",
   "execution_count": 21,
   "id": "b5ef4a6a-e384-41a7-a975-cadd0e9a4d80",
   "metadata": {},
   "outputs": [
    {
     "ename": "SyntaxError",
     "evalue": "unterminated string literal (detected at line 1) (2667169940.py, line 1)",
     "output_type": "error",
     "traceback": [
      "\u001b[1;36m  Cell \u001b[1;32mIn[21], line 1\u001b[1;36m\u001b[0m\n\u001b[1;33m    course = \"Python for Beginners\\\"  # Notice the escape character before the double quote\u001b[0m\n\u001b[1;37m             ^\u001b[0m\n\u001b[1;31mSyntaxError\u001b[0m\u001b[1;31m:\u001b[0m unterminated string literal (detected at line 1)\n"
     ]
    }
   ],
   "source": [
    "course = \"Python for Beginners\\\"  # Notice the escape character before the double quote\n",
    "print(course)"
   ]
  },
  {
   "cell_type": "code",
   "execution_count": 23,
   "id": "9294be58-bd03-4bf4-9737-5ecf36506799",
   "metadata": {},
   "outputs": [
    {
     "name": "stdout",
     "output_type": "stream",
     "text": [
      "Python for Beginners\\\n"
     ]
    }
   ],
   "source": [
    "course = \"Python for Beginners\\\\\"  # Notice the escape character before the double quote\n",
    "print(course)`"
   ]
  },
  {
   "cell_type": "markdown",
   "id": "f35f4b5c-efb5-47a6-a397-f56977b92467",
   "metadata": {},
   "source": [
    "#### <font color=\"green\">Use raw strings:</font>  We can prefix the string with the letter 'r' to create a raw string. Raw strings ignore escape sequences altogether."
   ]
  },
  {
   "cell_type": "code",
   "execution_count": 40,
   "id": "ca5711de-a21a-4402-9400-8c56e474d2c1",
   "metadata": {},
   "outputs": [
    {
     "ename": "SyntaxError",
     "evalue": "unterminated string literal (detected at line 2) (3583751074.py, line 2)",
     "output_type": "error",
     "traceback": [
      "\u001b[1;36m  Cell \u001b[1;32mIn[40], line 2\u001b[1;36m\u001b[0m\n\u001b[1;33m    course = r\"Python for Beginners\\\"  # Notice the escape character before the double quote\u001b[0m\n\u001b[1;37m             ^\u001b[0m\n\u001b[1;31mSyntaxError\u001b[0m\u001b[1;31m:\u001b[0m unterminated string literal (detected at line 2)\n"
     ]
    }
   ],
   "source": [
    "#course = r\"Python for Beginners\\\"\n",
    "course = r\"Python for Beginners\\\"  # Notice the escape character before the double quote\n",
    "print(course)"
   ]
  },
  {
   "cell_type": "code",
   "execution_count": null,
   "id": "be4911ed-a76d-46ff-b662-98eb715b3db0",
   "metadata": {},
   "outputs": [],
   "source": []
  },
  {
   "cell_type": "markdown",
   "id": "00989399-c158-45b8-b0a8-49223857dc69",
   "metadata": {},
   "source": [
    "### <font color=\"green\"> Insert variables or expressions</font>\n",
    "Another interesting concept with strings is string formatting.  This allows us to insert variables or expressions directly into our strings."
   ]
  },
  {
   "cell_type": "code",
   "execution_count": 2,
   "id": "15cbfcf0-5ded-414c-9626-957df90d82b2",
   "metadata": {},
   "outputs": [
    {
     "name": "stdout",
     "output_type": "stream",
     "text": [
      "Hello, my name is Alice and I'm 30 years old.\n"
     ]
    }
   ],
   "source": [
    "name = \"Alice\"\n",
    "age = 30\n",
    "\n",
    "greeting = \"Hello, my name is \" + name + \" and I'm \" + str(age) + \" years old.\"\n",
    "print(greeting)"
   ]
  },
  {
   "cell_type": "markdown",
   "id": "d76b3c5f-8d56-414c-be10-5f7874be92ce",
   "metadata": {},
   "source": [
    "### <font color=\"green\"> f string</font>\n",
    "Now, suppose you wanted to display the age with two decimal places. How would you modify the f-string to achieve this?"
   ]
  },
  {
   "cell_type": "code",
   "execution_count": 7,
   "id": "d7960af1-3b54-4596-b7a4-2e6d50f0acbe",
   "metadata": {},
   "outputs": [
    {
     "name": "stdout",
     "output_type": "stream",
     "text": [
      "The age is 30.12 printed upto 2 decimal places\n",
      "The age is 30.123 printed upto 3 decimal places\n"
     ]
    }
   ],
   "source": [
    "# say age = 30.12345\n",
    "age = 30.12345\n",
    "print( f\"The age is {age:.2f} printed upto 2 decimal places\") \n",
    "print( f\"The age is {age:.3f} printed upto 3 decimal places\") "
   ]
  },
  {
   "cell_type": "markdown",
   "id": "fb76da35-7f71-4a6d-907a-29b0b0b14188",
   "metadata": {},
   "source": [
    "## <font color=\"green\"> String methods </font>\n",
    "\n",
    "- upper()\n",
    "- lower()\n",
    "- strip()\n",
    "- find() # search for the first occurrence of a substring within the string, respectively. They return the index of the first character of the substring if found, or -1 if not found.\n",
    "- rfind() #search for the last occurrence of a substring within the string, respectively. They return the index of the first character of the substring if found, or -1 if not found.\n",
    "- startswith() #check if the string starts  with a specific substring, respectively. They return True if the condition is met, and False otherwise.\n",
    "- endswith() #check if the string  ends with a specific substring, respectively. They return True if the condition is met, and False otherwise."
   ]
  },
  {
   "cell_type": "code",
   "execution_count": 34,
   "id": "6af0e8b1-3362-454f-8d6d-32541b686868",
   "metadata": {},
   "outputs": [
    {
     "name": "stdout",
     "output_type": "stream",
     "text": [
      "Example of upper() string method: HELLO, WORLD!\n",
      "Example of lower() string method: hello, world!\n",
      "Example of strip() string method: Hello\n",
      "Example of find() string method: 6\n",
      "Example of rfind() string method: 12\n",
      "Example of startswith() string method: True\n",
      "Example of endswith() string method: True\n",
      "\n",
      "\n"
     ]
    }
   ],
   "source": [
    "message = \"Hello, World!\"\n",
    "message2 = \"         Hello     \"\n",
    "quote = \"Never gonna give you up\"\n",
    "\n",
    "print(f\"Example of upper() string method: {message.upper()}\")  # HELLO, WORLD!\n",
    "print(f\"Example of lower() string method: {message.lower()}\") \n",
    "print(f\"Example of strip() string method: {message2.strip()}\") \n",
    "print(f\"Example of find() string method: {quote.find(\"g\")}\")  \n",
    "print(f\"Example of rfind() string method: {quote.rfind(\"g\")}\")  \n",
    "\n",
    "email = \"your_email@example.com\"\n",
    "print(f\"Example of startswith() string method: {email.startswith(\"your_email\")}\")  \n",
    "print(f\"Example of endswith() string method: {email.endswith(\".com\")}\") \n"
   ]
  },
  {
   "cell_type": "markdown",
   "id": "9bf9692d-6bb6-45b6-9164-762bdc0cb853",
   "metadata": {},
   "source": [
    "## Cool tricks with strings \n",
    "### <font color=\"blue\"> Reversion a string </font>\n",
    "- Access specific characters or portions of a string using colon (:) notation.\n",
    "- Slicing with reversed step ([::-1])\n",
    "- reversed() function combined with string joining\n",
    "- splitting sequence of charactes into string\n",
    "- Combine elements from a list into a single string using the join() method\n"
   ]
  },
  {
   "cell_type": "code",
   "execution_count": 45,
   "id": "787012bc-a704-4260-b01a-0ba08ed88d90",
   "metadata": {},
   "outputs": [
    {
     "name": "stdout",
     "output_type": "stream",
     "text": [
      "Welcome  Tricks!\n"
     ]
    }
   ],
   "source": [
    "# Access specific characters or portions of a string using colon (:) notation.\n",
    "message = \"Welcome to Python String Tricks!\"\n",
    "first_word = message[:7]  # \"Welcome\" (up to, but not including, index 7)\n",
    "last_part = message[-8:]  # \"Tricks!\" (from index -8 to the end)\n",
    "print(first_word, last_part)  "
   ]
  },
  {
   "cell_type": "code",
   "execution_count": 49,
   "id": "c0decb2e-6f6f-4a40-9842-1239607948a8",
   "metadata": {},
   "outputs": [
    {
     "name": "stdout",
     "output_type": "stream",
     "text": [
      "!emosewa si nohtyP\n"
     ]
    }
   ],
   "source": [
    "#Slicing with reversed step ([::-1])\n",
    "original_text = \"Python is awesome!\"\n",
    "reversed_text1 = original_text[::-1]  # \"!emosewa si nohtyP\"\n",
    "print(reversed_text1)"
   ]
  },
  {
   "cell_type": "code",
   "execution_count": 51,
   "id": "7235601e-14a5-438c-b2ba-7f16832e4048",
   "metadata": {},
   "outputs": [
    {
     "name": "stdout",
     "output_type": "stream",
     "text": [
      "!emosewa si nohtyP\n"
     ]
    }
   ],
   "source": [
    "# reversed() function combined with string joining\n",
    "reversed_text2 = ''.join(reversed(original_text)) \n",
    "print(reversed_text2)"
   ]
  },
  {
   "cell_type": "code",
   "execution_count": 53,
   "id": "5cc2a42a-6375-48e8-87c9-a3a20a13a1f9",
   "metadata": {},
   "outputs": [
    {
     "name": "stdout",
     "output_type": "stream",
     "text": [
      "['a', 'b', 'c', 'd', 'e']\n"
     ]
    }
   ],
   "source": [
    "splitting sequence of charactes into string\n",
    "my_str = \"abcde\"\n",
    "my_str_list = list(my_str)\n",
    "print(my_str_list)"
   ]
  },
  {
   "cell_type": "code",
   "execution_count": 55,
   "id": "306e4c72-00fa-4e41-bde9-73ae141a586d",
   "metadata": {},
   "outputs": [
    {
     "name": "stdout",
     "output_type": "stream",
     "text": [
      "Hello world, how are you?\n"
     ]
    }
   ],
   "source": [
    "# Combine elements from a list into a single string using the join() method\n",
    "words = [\"Hello\", \"world,\", \"how\", \"are\", \"you?\"]\n",
    "joined_string = \" \".join(words)  # \"Hello world, how are you?\"\n",
    "print(joined_string)"
   ]
  },
  {
   "cell_type": "code",
   "execution_count": null,
   "id": "8b280af9-77f1-4c58-9669-c3bc2cb3e616",
   "metadata": {},
   "outputs": [],
   "source": []
  }
 ],
 "metadata": {
  "kernelspec": {
   "display_name": "Python 3 (ipykernel)",
   "language": "python",
   "name": "python3"
  },
  "language_info": {
   "codemirror_mode": {
    "name": "ipython",
    "version": 3
   },
   "file_extension": ".py",
   "mimetype": "text/x-python",
   "name": "python",
   "nbconvert_exporter": "python",
   "pygments_lexer": "ipython3",
   "version": "3.12.4"
  }
 },
 "nbformat": 4,
 "nbformat_minor": 5
}
